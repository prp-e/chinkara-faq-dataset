{
 "cells": [
  {
   "cell_type": "code",
   "execution_count": 1,
   "id": "4c4d7d0c",
   "metadata": {},
   "outputs": [],
   "source": [
    "import json"
   ]
  },
  {
   "cell_type": "markdown",
   "id": "115bfa77",
   "metadata": {},
   "source": [
    "## Importing The data"
   ]
  },
  {
   "cell_type": "code",
   "execution_count": 2,
   "id": "e524bd3a",
   "metadata": {},
   "outputs": [],
   "source": [
    "file = open('raw_data.json')\n",
    "lines = file.readlines()"
   ]
  },
  {
   "cell_type": "markdown",
   "id": "fbe1b4ba",
   "metadata": {},
   "source": [
    "## Working on the data preprocess"
   ]
  },
  {
   "cell_type": "code",
   "execution_count": 3,
   "id": "022e727c",
   "metadata": {},
   "outputs": [
    {
     "data": {
      "text/plain": [
       "'{\"question\":\"How can I track my order?\",\"answer\":\"You can track your order by logging into your account and navigating to the \\'Order History\\' section. There, you will find the tracking information for your shipment.\"}\\n'"
      ]
     },
     "execution_count": 3,
     "metadata": {},
     "output_type": "execute_result"
    }
   ],
   "source": [
    "lines[2]"
   ]
  },
  {
   "cell_type": "code",
   "execution_count": 4,
   "id": "d7a513c1",
   "metadata": {},
   "outputs": [],
   "source": [
    "json_test = json.loads(lines[2])"
   ]
  },
  {
   "cell_type": "code",
   "execution_count": 5,
   "id": "f0d3660e",
   "metadata": {},
   "outputs": [
    {
     "data": {
      "text/plain": [
       "{'question': 'How can I track my order?',\n",
       " 'answer': \"You can track your order by logging into your account and navigating to the 'Order History' section. There, you will find the tracking information for your shipment.\"}"
      ]
     },
     "execution_count": 5,
     "metadata": {},
     "output_type": "execute_result"
    }
   ],
   "source": [
    "json_test"
   ]
  },
  {
   "cell_type": "markdown",
   "id": "e952eb9f",
   "metadata": {},
   "source": [
    "## A method to preprocess the data in a good way"
   ]
  },
  {
   "cell_type": "code",
   "execution_count": 6,
   "id": "2a570483",
   "metadata": {},
   "outputs": [],
   "source": [
    "def preprocess(data):\n",
    "    \n",
    "    data = json.loads(data)\n",
    "    \n",
    "    human = data['question']\n",
    "    assistant = data['answer']\n",
    "    \n",
    "    final_instruct = f\"### Human: {human} ### Assistant: {assistant}\"\n",
    "    \n",
    "    return final_instruct\n",
    "    "
   ]
  },
  {
   "cell_type": "code",
   "execution_count": 7,
   "id": "deb2566d",
   "metadata": {},
   "outputs": [
    {
     "data": {
      "text/plain": [
       "\"### Human: How can I track my order? ### Assistant: You can track your order by logging into your account and navigating to the 'Order History' section. There, you will find the tracking information for your shipment.\""
      ]
     },
     "execution_count": 7,
     "metadata": {},
     "output_type": "execute_result"
    }
   ],
   "source": [
    "preprocess(lines[2])"
   ]
  },
  {
   "cell_type": "markdown",
   "id": "ec868bc2",
   "metadata": {},
   "source": [
    "## Creating the final dataset"
   ]
  },
  {
   "cell_type": "code",
   "execution_count": 8,
   "id": "b5f0220e",
   "metadata": {},
   "outputs": [],
   "source": [
    "final_dataset = open('chinkara_faq.jsonl', 'w')"
   ]
  },
  {
   "cell_type": "code",
   "execution_count": 9,
   "id": "9a34583d",
   "metadata": {},
   "outputs": [],
   "source": [
    "for line in lines:\n",
    "    line = preprocess(line)\n",
    "    datum = {\"text\" : line}\n",
    "    \n",
    "    datum = json.dumps(datum)\n",
    "    datum += \"\\n\"\n",
    "    \n",
    "    final_dataset.write(datum)"
   ]
  },
  {
   "cell_type": "code",
   "execution_count": 10,
   "id": "3e01542b",
   "metadata": {},
   "outputs": [],
   "source": [
    "final_dataset.close()"
   ]
  }
 ],
 "metadata": {
  "kernelspec": {
   "display_name": "Python 3 (ipykernel)",
   "language": "python",
   "name": "python3"
  },
  "language_info": {
   "codemirror_mode": {
    "name": "ipython",
    "version": 3
   },
   "file_extension": ".py",
   "mimetype": "text/x-python",
   "name": "python",
   "nbconvert_exporter": "python",
   "pygments_lexer": "ipython3",
   "version": "3.11.1"
  }
 },
 "nbformat": 4,
 "nbformat_minor": 5
}
