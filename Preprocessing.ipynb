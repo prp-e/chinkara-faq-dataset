{
 "cells": [
  {
   "cell_type": "code",
   "execution_count": 1,
   "id": "c61645c9",
   "metadata": {},
   "outputs": [],
   "source": [
    "import json"
   ]
  },
  {
   "cell_type": "markdown",
   "id": "35551115",
   "metadata": {},
   "source": [
    "## Importing The data"
   ]
  },
  {
   "cell_type": "code",
   "execution_count": 2,
   "id": "de2c924e",
   "metadata": {},
   "outputs": [],
   "source": [
    "file = open('raw_data.json')\n",
    "lines = file.readlines()"
   ]
  },
  {
   "cell_type": "markdown",
   "id": "bc55d077",
   "metadata": {},
   "source": [
    "## Working on the data preprocess"
   ]
  },
  {
   "cell_type": "code",
   "execution_count": 3,
   "id": "8b01e9a0",
   "metadata": {},
   "outputs": [
    {
     "data": {
      "text/plain": [
       "'{\"question\":\"How can I track my order?\",\"answer\":\"You can track your order by logging into your account and navigating to the \\'Order History\\' section. There, you will find the tracking information for your shipment.\"}\\n'"
      ]
     },
     "execution_count": 3,
     "metadata": {},
     "output_type": "execute_result"
    }
   ],
   "source": [
    "lines[2]"
   ]
  },
  {
   "cell_type": "code",
   "execution_count": 4,
   "id": "fb43d8b6",
   "metadata": {},
   "outputs": [],
   "source": [
    "json_test = json.loads(lines[2])"
   ]
  },
  {
   "cell_type": "code",
   "execution_count": 5,
   "id": "408d3a97",
   "metadata": {},
   "outputs": [
    {
     "data": {
      "text/plain": [
       "{'question': 'How can I track my order?',\n",
       " 'answer': \"You can track your order by logging into your account and navigating to the 'Order History' section. There, you will find the tracking information for your shipment.\"}"
      ]
     },
     "execution_count": 5,
     "metadata": {},
     "output_type": "execute_result"
    }
   ],
   "source": [
    "json_test"
   ]
  },
  {
   "cell_type": "markdown",
   "id": "063949c3",
   "metadata": {},
   "source": [
    "## A method to preprocess the data in a good way"
   ]
  },
  {
   "cell_type": "code",
   "execution_count": null,
   "id": "5302ff95",
   "metadata": {},
   "outputs": [],
   "source": []
  }
 ],
 "metadata": {
  "kernelspec": {
   "display_name": "Python 3 (ipykernel)",
   "language": "python",
   "name": "python3"
  },
  "language_info": {
   "codemirror_mode": {
    "name": "ipython",
    "version": 3
   },
   "file_extension": ".py",
   "mimetype": "text/x-python",
   "name": "python",
   "nbconvert_exporter": "python",
   "pygments_lexer": "ipython3",
   "version": "3.11.1"
  }
 },
 "nbformat": 4,
 "nbformat_minor": 5
}
