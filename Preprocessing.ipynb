{
 "cells": [
  {
   "cell_type": "code",
   "execution_count": 1,
   "id": "691e528a",
   "metadata": {},
   "outputs": [],
   "source": [
    "import json"
   ]
  },
  {
   "cell_type": "markdown",
   "id": "ebdb748f",
   "metadata": {},
   "source": [
    "## Importing The data"
   ]
  },
  {
   "cell_type": "code",
   "execution_count": 2,
   "id": "5f9c5410",
   "metadata": {},
   "outputs": [],
   "source": [
    "file = open('raw_data.json')\n",
    "lines = file.readlines()"
   ]
  },
  {
   "cell_type": "markdown",
   "id": "f86a86b1",
   "metadata": {},
   "source": [
    "## Working on the data preprocess"
   ]
  },
  {
   "cell_type": "code",
   "execution_count": 3,
   "id": "0219090d",
   "metadata": {},
   "outputs": [
    {
     "data": {
      "text/plain": [
       "'{\"question\":\"How can I track my order?\",\"answer\":\"You can track your order by logging into your account and navigating to the \\'Order History\\' section. There, you will find the tracking information for your shipment.\"}\\n'"
      ]
     },
     "execution_count": 3,
     "metadata": {},
     "output_type": "execute_result"
    }
   ],
   "source": [
    "lines[2]"
   ]
  },
  {
   "cell_type": "code",
   "execution_count": 4,
   "id": "5174f943",
   "metadata": {},
   "outputs": [],
   "source": [
    "json_test = json.loads(lines[2])"
   ]
  },
  {
   "cell_type": "code",
   "execution_count": 5,
   "id": "edb093e5",
   "metadata": {},
   "outputs": [
    {
     "data": {
      "text/plain": [
       "{'question': 'How can I track my order?',\n",
       " 'answer': \"You can track your order by logging into your account and navigating to the 'Order History' section. There, you will find the tracking information for your shipment.\"}"
      ]
     },
     "execution_count": 5,
     "metadata": {},
     "output_type": "execute_result"
    }
   ],
   "source": [
    "json_test"
   ]
  },
  {
   "cell_type": "markdown",
   "id": "33d469e6",
   "metadata": {},
   "source": [
    "## A method to preprocess the data in a good way"
   ]
  },
  {
   "cell_type": "code",
   "execution_count": 9,
   "id": "88c5bdc2",
   "metadata": {},
   "outputs": [],
   "source": [
    "def preprocess(data):\n",
    "    \n",
    "    data = json.loads(data)\n",
    "    \n",
    "    human = data['question']\n",
    "    assistant = data['answer']\n",
    "    \n",
    "    final_instruct = f\"### Human: {human} ### Assistant: {assistant}\"\n",
    "    \n",
    "    return final_instruct\n",
    "    "
   ]
  },
  {
   "cell_type": "code",
   "execution_count": 10,
   "id": "99d5c57f",
   "metadata": {},
   "outputs": [
    {
     "data": {
      "text/plain": [
       "\"### Human: How can I track my order? ### Assistant: You can track your order by logging into your account and navigating to the 'Order History' section. There, you will find the tracking information for your shipment.\""
      ]
     },
     "execution_count": 10,
     "metadata": {},
     "output_type": "execute_result"
    }
   ],
   "source": [
    "preprocess(lines[2])"
   ]
  },
  {
   "cell_type": "code",
   "execution_count": null,
   "id": "79712abc",
   "metadata": {},
   "outputs": [],
   "source": []
  }
 ],
 "metadata": {
  "kernelspec": {
   "display_name": "Python 3 (ipykernel)",
   "language": "python",
   "name": "python3"
  },
  "language_info": {
   "codemirror_mode": {
    "name": "ipython",
    "version": 3
   },
   "file_extension": ".py",
   "mimetype": "text/x-python",
   "name": "python",
   "nbconvert_exporter": "python",
   "pygments_lexer": "ipython3",
   "version": "3.11.1"
  }
 },
 "nbformat": 4,
 "nbformat_minor": 5
}
