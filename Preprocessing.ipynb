{
 "cells": [
  {
   "cell_type": "code",
   "execution_count": 1,
   "id": "8b60afb2",
   "metadata": {},
   "outputs": [],
   "source": [
    "import json"
   ]
  },
  {
   "cell_type": "markdown",
   "id": "68798f3f",
   "metadata": {},
   "source": [
    "## Importing The data"
   ]
  },
  {
   "cell_type": "code",
   "execution_count": 2,
   "id": "368c4f47",
   "metadata": {},
   "outputs": [],
   "source": [
    "file = open('raw_data.json')\n",
    "lines = file.readlines()"
   ]
  },
  {
   "cell_type": "markdown",
   "id": "e6fd6dc8",
   "metadata": {},
   "source": [
    "## Working on the data preprocess"
   ]
  },
  {
   "cell_type": "code",
   "execution_count": 3,
   "id": "23ec1598",
   "metadata": {},
   "outputs": [
    {
     "data": {
      "text/plain": [
       "'{\"question\":\"How can I track my order?\",\"answer\":\"You can track your order by logging into your account and navigating to the \\'Order History\\' section. There, you will find the tracking information for your shipment.\"}\\n'"
      ]
     },
     "execution_count": 3,
     "metadata": {},
     "output_type": "execute_result"
    }
   ],
   "source": [
    "lines[2]"
   ]
  },
  {
   "cell_type": "code",
   "execution_count": 4,
   "id": "1133d1d3",
   "metadata": {},
   "outputs": [],
   "source": [
    "json_test = json.loads(lines[2])"
   ]
  },
  {
   "cell_type": "code",
   "execution_count": 5,
   "id": "fc02a7e0",
   "metadata": {},
   "outputs": [
    {
     "data": {
      "text/plain": [
       "{'question': 'How can I track my order?',\n",
       " 'answer': \"You can track your order by logging into your account and navigating to the 'Order History' section. There, you will find the tracking information for your shipment.\"}"
      ]
     },
     "execution_count": 5,
     "metadata": {},
     "output_type": "execute_result"
    }
   ],
   "source": [
    "json_test"
   ]
  },
  {
   "cell_type": "markdown",
   "id": "1b12f576",
   "metadata": {},
   "source": [
    "## A method to preprocess the data in a good way"
   ]
  },
  {
   "cell_type": "code",
   "execution_count": null,
   "id": "728a9c80",
   "metadata": {},
   "outputs": [],
   "source": [
    "def preprocess(data):\n",
    "    pass"
   ]
  }
 ],
 "metadata": {
  "kernelspec": {
   "display_name": "Python 3 (ipykernel)",
   "language": "python",
   "name": "python3"
  },
  "language_info": {
   "codemirror_mode": {
    "name": "ipython",
    "version": 3
   },
   "file_extension": ".py",
   "mimetype": "text/x-python",
   "name": "python",
   "nbconvert_exporter": "python",
   "pygments_lexer": "ipython3",
   "version": "3.11.1"
  }
 },
 "nbformat": 4,
 "nbformat_minor": 5
}
